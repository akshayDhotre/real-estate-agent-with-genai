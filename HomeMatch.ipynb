{
 "cells": [
  {
   "cell_type": "markdown",
   "id": "a108af04",
   "metadata": {},
   "source": [
    "## Real Estate Agent using LLM"
   ]
  },
  {
   "cell_type": "markdown",
   "id": "30abd745",
   "metadata": {},
   "source": [
    "#### Imports"
   ]
  },
  {
   "cell_type": "code",
   "execution_count": 2,
   "id": "6554fd4c",
   "metadata": {},
   "outputs": [],
   "source": [
    "import pandas as pd\n",
    "from langchain.chat_models import ChatOpenAI\n",
    "import chromadb\n",
    "from chromadb.utils import embedding_functions"
   ]
  },
  {
   "cell_type": "markdown",
   "id": "aab450a2",
   "metadata": {},
   "source": [
    "#### Select and create LLM model"
   ]
  },
  {
   "cell_type": "code",
   "execution_count": 4,
   "id": "95053a22",
   "metadata": {},
   "outputs": [],
   "source": [
    "# Use GPT3.5 turbo as llm\n",
    "model_name = 'gpt-3.5-turbo'\n",
    "llm = ChatOpenAI(model_name=model_name, temperature=0)"
   ]
  },
  {
   "cell_type": "markdown",
   "id": "3e72ff04",
   "metadata": {},
   "source": [
    "### Generate Synthetic data using LLM"
   ]
  },
  {
   "cell_type": "code",
   "execution_count": 5,
   "id": "8a085198",
   "metadata": {},
   "outputs": [],
   "source": [
    "prompt_to_synthetic_data = \"\"\"Create a detailed CSV file that captures the details of 20 unique real estate properties. Each property should be organized into columns with the following attributes:\n",
    "\n",
    "- Neighborhood: area where the property is located\n",
    "- Price: property's market value in USD, formatted\n",
    "- Bedrooms: number of bedrooms in the property\n",
    "- Bathrooms: number of bathrooms in the property\n",
    "- House Size: property's size in square feet\n",
    "\n",
    "Enhance each property's entry with a detailed paragraph that highlights its unique features, amenities, and sustainable aspects. Mention details such as energy-efficient appliances, use of eco-friendly materials, and gardens.\n",
    "\n",
    "Sample Entry Format:\n",
    "Neighborhood,Price,Bedrooms,Bathrooms,House Size,Description,Neighborhood Description\n",
    "\"Green Oaks\",\"$800,000\",3,2,\"2,000 sqft\",\"Located in Green Oaks, this eco-friendly property includes a 3-bedroom, 2-bathroom setup with solar panels and efficient insulation. The home offers ample natural light, hardwood floors, and an open kitchen that leads to a lush backyard, making it an ideal retreat for those who value sustainability. Green Oaks is known for its vibrant and eco-conscious community, featuring organic shops, community gardens, and excellent transit options, making it perfect for individuals who prioritize environmental responsibility and community involvement.\",\"Green Oaks is a close-knit, environmentally-conscious community with access to organic grocery stores, community gardens, and bike paths. Take a stroll through the nearby Green Oaks Park or grab a cup of coffee at the cozy Green Bean Cafe. With easy access to public transportation and bike lanes, commuting is a breeze.\"\n",
    "\n",
    "Format the CSV with clear headers for each column. Follow the sample provided to format each subsequent row with specific information for each property listing. Generate 20 distinct listings.\"\"\""
   ]
  },
  {
   "cell_type": "code",
   "execution_count": 88,
   "id": "f423a04e",
   "metadata": {},
   "outputs": [],
   "source": [
    "real_estate_llm_data = llm.predict(prompt_to_synthetic_data)"
   ]
  },
  {
   "cell_type": "code",
   "execution_count": 89,
   "id": "92c10241",
   "metadata": {},
   "outputs": [
    {
     "name": "stdout",
     "output_type": "stream",
     "text": [
      "Neighborhood,Price,Bedrooms,Bathrooms,House Size,Description,Neighborhood Description\n",
      "\"Willow Creek\",\"$650,000\",4,3,\"2,500 sqft\",\"Nestled in the serene neighborhood of Willow Creek, this spacious property boasts 4 bedrooms and 3 bathrooms. The house features energy-efficient windows, a modern kitchen with stainless steel appliances, and a backyard perfect for gardening. With a focus on sustainability, this home is equipped with a rainwater harvesting system and LED lighting throughout. Willow Creek offers a peaceful environment with tree-lined streets, parks, and a strong sense of community.\",\"Willow Creek is a tranquil neighborhood with tree-lined streets and parks, ideal for families and nature lovers. Residents can enjoy the nearby Willow Creek Community Center, hiking trails, and local farmers' markets. The neighborhood is known for its strong community spirit and commitment to sustainability.\"\n",
      "\"Sunset Heights\",\"$900,000\",5,4,\"3,000 sqft\",\"Situated in the prestigious Sunset Heights neighborhood, this luxurious property features 5 bedrooms and 4 bathrooms. The house includes high-end finishes, a gourmet kitchen with energy-efficient appliances, and a spacious master suite with a private balcony. The property also boasts a solar panel system, a smart irrigation system for the garden, and a rooftop terrace with stunning views. Sunset Heights is known for its upscale homes, top-rated schools, and proximity to trendy restaurants and shops.\",\"Sunset Heights is an upscale neighborhood known for its luxury homes and vibrant community. Residents can enjoy the nearby Sunset Park, upscale shopping centers, and fine dining options. The neighborhood offers a high quality of life with excellent schools and easy access to amenities.\"\n",
      "\"Riverfront Estates\",\"$1,200,000\",6,5,\"4,500 sqft\",\"Located in the exclusive Riverfront Estates, this grand property offers 6 bedrooms and 5 bathrooms. The house features a grand foyer, a chef's kitchen with energy-efficient appliances, and a private home theater. The property includes a geothermal heating and cooling system, a rain garden for water conservation, and a backyard oasis with a pool and spa. Riverfront Estates is a prestigious neighborhood with waterfront views, private docks, and a strong sense of luxury living.\",\"Riverfront Estates is a prestigious waterfront community known for its luxury homes and exclusive amenities. Residents can enjoy private boat docks, waterfront dining options, and scenic walking trails along the river. The neighborhood offers a high level of privacy and security, making it a sought-after location for discerning buyers.\"\n",
      "\"Maple Grove\",\"$500,000\",3,2,\"1,800 sqft\",\"Set in the charming neighborhood of Maple Grove, this cozy property features 3 bedrooms and 2 bathrooms. The house offers an open floor plan, a renovated kitchen with energy-efficient appliances, and a backyard with a vegetable garden. The property includes a smart thermostat, low-flow fixtures, and a composting system for sustainable living. Maple Grove is a family-friendly neighborhood with tree-lined streets, parks, and a strong sense of community.\",\"Maple Grove is a family-friendly neighborhood with a strong sense of community and a focus on sustainability. Residents can enjoy the nearby Maple Grove Park, local farmers' markets, and community events. The neighborhood is known for its friendly atmosphere and commitment to environmental responsibility.\"\n",
      "\"Oakwood Hills\",\"$750,000\",4,3,\"2,300 sqft\",\"Situated in the picturesque neighborhood of Oakwood Hills, this charming property offers 4 bedrooms and 3 bathrooms. The house features a cozy fireplace, a gourmet kitchen with energy-efficient appliances, and a backyard with a deck for outdoor entertaining. The property includes a rain barrel system, solar-powered outdoor lighting, and a lush garden with native plants. Oakwood Hills is a peaceful neighborhood with wooded areas, hiking trails, and a strong sense of community.\",\"Oakwood Hills is a tranquil neighborhood with wooded areas and nature trails, perfect for outdoor enthusiasts. Residents can enjoy the nearby Oakwood Hills Nature Preserve, community events, and local cafes. The neighborhood offers a peaceful retreat from the hustle and bustle of city life, with a focus on sustainability and environmental conservation.\"\n",
      "\"Harbor View\",\"$850,000\",4,3,\"2,800 sqft\",\"Located in the sought-after neighborhood of Harbor View, this elegant property boasts 4 bedrooms and 3 bathrooms. The house offers a grand entrance, a chef's kitchen with energy-efficient appliances, and a backyard with a fire pit and outdoor kitchen. The property includes a solar water heater, a rain garden for water conservation, and a rooftop deck with panoramic views. Harbor View is a prestigious waterfront community with private marinas, yacht clubs, and upscale dining options.\",\"Harbor View is a prestigious waterfront community known for its luxury homes and exclusive amenities. Residents can enjoy private boat docks, waterfront dining options, and scenic walking trails along the harbor. The neighborhood offers a high level of privacy and security, making it a desirable location for discerning buyers.\"\n",
      "\"Mountain Ridge\",\"$600,000\",3,2,\"2,000 sqft\",\"Set in the scenic neighborhood of Mountain Ridge, this charming property features 3 bedrooms and 2 bathrooms. The house offers an open concept living space, a modern kitchen with energy-efficient appliances, and a backyard with a deck for outdoor gatherings. The property includes a rainwater collection system, a smart thermostat, and a garden with fruit trees. Mountain Ridge is a nature lover's paradise with hiking trails, parks, and stunning mountain views.\",\"Mountain Ridge is a nature lover's paradise with scenic hiking trails and parks, perfect for outdoor enthusiasts. Residents can enjoy the nearby Mountain Ridge Park, local farmers' markets, and community events. The neighborhood offers a peaceful retreat with a strong sense of community and a focus on sustainability.\"\n",
      "\"Golden Hills\",\"$700,000\",4,3,\"2,400 sqft\",\"Situated in the desirable neighborhood of Golden Hills, this spacious property offers 4 bedrooms and 3 bathrooms. The house features a bright and airy living space, a gourmet kitchen with energy-efficient appliances, and a backyard with a patio and garden. The property includes a solar panel system, a rainwater harvesting system, and a composting bin for sustainable living. Golden Hills is a family-friendly neighborhood with top-rated schools, parks, and a strong sense of community.\",\"Golden Hills is a family-friendly neighborhood with top-rated schools and a strong sense of community. Residents can enjoy the nearby Golden Hills Park, local shops, and community events. The neighborhood is known for its friendly atmosphere and commitment to sustainability.\"\n",
      "\"Ocean Breeze\",\"$950,000\",5,4,\"3,200 sqft\",\"Located in the coastal neighborhood of Ocean Breeze, this stunning property offers 5 bedrooms and 4 bathrooms. The house boasts a beach-inspired design, a chef's kitchen with energy-efficient appliances, and a backyard with a pool and outdoor kitchen. The property includes a solar panel system, a rainwater collection system, and a rooftop deck with ocean views. Ocean Breeze is a beachfront community with private beach access, surf schools, and trendy beachfront cafes.\",\"Ocean Breeze is a beachfront community known for its stunning ocean views and beachfront amenities. Residents can enjoy private beach access, surfing lessons, and beachfront dining options. The neighborhood offers a relaxed coastal lifestyle with a strong sense of community and a focus on sustainability.\"\n",
      "\"Sunrise Meadows\",\"$550,000\",3,2,\"1,700 sqft\",\"Set in the peaceful neighborhood of Sunrise Meadows, this cozy property features 3 bedrooms and 2 bathrooms. The house offers a warm and inviting atmosphere, a modern kitchen with energy-efficient appliances, and a backyard with a deck for outdoor relaxation. The property includes a smart thermostat, low-flow fixtures, and a garden with native plants. Sunrise Meadows is a family-friendly neighborhood with parks, walking trails, and a strong sense of community.\",\"Sunrise Meadows is a family-friendly neighborhood with parks and walking trails, perfect for outdoor activities. Residents can enjoy the nearby Sunrise Meadows Park, local cafes, and community events. The neighborhood offers a peaceful retreat with a focus on sustainability and environmental conservation.\"\n",
      "\"Silver Oaks\",\"$800,000\",4,3,\"2,300 sqft\",\"Nestled in the upscale neighborhood of Silver Oaks, this elegant property offers 4 bedrooms and 3 bathrooms. The house features a grand entrance, a gourmet kitchen with energy-efficient appliances, and a backyard with a patio and garden. The property includes a solar panel system, a rainwater harvesting system, and a rooftop deck with mountain views. Silver Oaks is a prestigious community with luxury homes, top-rated schools, and upscale shopping centers.\",\"Silver Oaks is an upscale neighborhood known for its luxury homes and exclusive amenities. Residents can enjoy the nearby Silver Oaks Country Club, upscale shopping centers, and fine dining options. The neighborhood offers a high quality of life with a strong sense of community and a focus on sustainability.\"\n",
      "\"Forest Hills\",\"$650,000\",3,2,\"1,900 sqft\",\"Situated in the lush neighborhood of Forest Hills, this charming property features 3 bedrooms and 2 bathrooms. The house offers a cozy living space, a renovated kitchen with energy-efficient appliances, and a backyard with a deck for outdoor entertaining. The property includes a rain barrel system, solar-powered outdoor lighting, and a garden with fruit trees. Forest Hills is a nature lover's paradise with wooded areas, parks, and a strong sense of community.\",\"Forest Hills is a nature lover's paradise with wooded areas and parks, perfect for outdoor enthusiasts. Residents can enjoy the nearby Forest Hills Park, local farmers' markets, and community events. The neighborhood offers a peaceful retreat with a focus on sustainability and environmental conservation.\"\n",
      "\"Riverstone Estates\",\"$1,000,000\",5,4,\"3,500 sqft\",\"Located in the prestigious Riverstone Estates, this luxurious property offers 5 bedrooms and 4 bathrooms. The house features high-end finishes, a chef's kitchen with energy-efficient appliances, and a backyard with a pool and outdoor kitchen. The property includes a geothermal heating and cooling system, a rain garden for water conservation, and a rooftop terrace with panoramic views. Riverstone Estates is a prestigious waterfront community with private docks, yacht clubs, and upscale dining options.\",\"Riverstone Estates is a prestigious waterfront community known for its luxury homes and exclusive amenities. Residents can enjoy private boat docks, waterfront dining options, and scenic walking trails along the river. The neighborhood offers a high level of privacy and security, making it a sought-after location for discerning buyers.\"\n",
      "\"Valley View\",\"$750,000\",4,3,\"2,400 sqft\",\"Set in the scenic neighborhood of Valley View, this charming property offers 4 bedrooms and 3 bathrooms. The house features an open concept living space, a modern kitchen with energy-efficient appliances, and a backyard with a deck for outdoor gatherings. The property includes a rainwater collection system, a smart thermostat, and a garden with native plants. Valley View is a nature lover's paradise with hiking trails, parks, and stunning valley views.\",\"Valley View is a nature lover's paradise with scenic hiking trails and parks, perfect for outdoor enthusiasts. Residents can enjoy the nearby Valley View Park, local farmers' markets, and community events. The neighborhood offers a peaceful retreat with a strong sense of community and a focus on sustainability.\"\n",
      "\"Crystal Springs\",\"$700,000\",4,3,\"2,200 sqft\",\"Situated in the serene neighborhood of Crystal Springs, this cozy property offers 4 bedrooms and 3 bathrooms. The house features a warm and inviting atmosphere, a gourmet kitchen with energy-efficient appliances, and a backyard with a patio and garden. The property includes a solar panel system, a rainwater harvesting system, and a composting bin for sustainable living. Crystal Springs is a family-friendly neighborhood with tree-lined streets, parks, and a strong sense of community.\",\"Crystal Springs is a family-friendly neighborhood with a strong sense of community and a focus on sustainability. Residents can enjoy the nearby Crystal Springs Park, local shops, and community events. The neighborhood is known for its friendly atmosphere and commitment to environmental responsibility.\"\n",
      "\"Mountain View\",\"$850,000\",5,4,\"3,000 sqft\",\"Located in the scenic neighborhood of Mountain View, this stunning property offers 5 bedrooms and 4 bathrooms. The house boasts a modern design, a chef's kitchen with energy-efficient appliances, and a backyard with a pool and outdoor kitchen. The property includes a solar panel system, a rainwater collection system, and a rooftop deck with mountain views. Mountain View is a nature lover's paradise with hiking trails, parks, and stunning mountain views.\",\"Mountain View is a nature lover's paradise with scenic hiking trails and parks, perfect for outdoor enthusiasts. Residents can enjoy the nearby Mountain View Park, local farmers' markets, and community events. The neighborhood offers a peaceful retreat with a strong sense of community and a focus on sustainability.\"\n",
      "\"Willowbrook\",\"$600,000\",3,2,\"1,800 sqft\",\"Set in the charming neighborhood of Willowbrook, this cozy property features 3 bedrooms and 2 bathrooms. The house offers an open floor plan, a renovated kitchen with energy-efficient appliances, and a backyard with a vegetable garden. The property includes a smart thermostat, low-flow fixtures, and a composting system for sustainable living. Willowbrook is a family-friendly neighborhood with tree-lined streets, parks, and a strong sense of community.\",\"Willowbrook is a family-friendly neighborhood with a strong sense of community and a focus on sustainability. Residents can enjoy the nearby Willowbrook Park, local farmers' markets, and community events. The neighborhood is known for its friendly atmosphere and commitment to environmental responsibility.\"\n",
      "\"Sunset Ridge\",\"$950,000\",5,4,\"3,200 sqft\",\"Nestled in the prestigious neighborhood of Sunset Ridge, this grand property offers 5 bedrooms and 4 bathrooms. The house features high-end finishes, a chef's kitchen with energy-efficient appliances, and a backyard with a pool and outdoor kitchen. The property includes a geothermal heating and cooling system, a rain garden for water conservation, and a rooftop terrace with panoramic views. Sunset Ridge is a prestigious community with luxury homes, top-rated schools, and upscale shopping centers.\",\"Sunset Ridge is an upscale neighborhood known for its luxury homes and exclusive amenities. Residents can enjoy the nearby Sunset Ridge Country Club, upscale shopping centers, and fine dining options. The neighborhood offers a high quality of life with a strong sense of community and a focus on sustainability.\"\n",
      "\"Green Valley\",\"$550,000\",3,2,\"1,700 sqft\",\"Situated in the eco-friendly neighborhood of Green Valley, this sustainable property features 3 bedrooms and 2 bathrooms. The house offers energy-efficient windows, a modern kitchen with eco-friendly materials, and a backyard with a vegetable garden. The property includes a solar panel system, a rainwater harvesting system, and a composting bin for sustainable living. Green Valley is a green community with LEED-certified homes, community gardens, and eco-conscious residents.\",\"Green Valley is an eco-friendly neighborhood with a focus on sustainability and environmental responsibility. Residents can enjoy the nearby Green Valley Community Garden, local farmers' markets, and community events. The neighborhood is known for its commitment to green living and eco-conscious practices.\"\n",
      "\"Riverwalk\",\"$750,000\",4,3,\"2,300 sqft\",\"Located in the scenic neighborhood of Riverwalk, this charming property offers 4 bedrooms and 3 bathrooms. The house features an open concept living space, a modern kitchen with energy-efficient appliances, and a backyard with a deck for outdoor gatherings. The property includes a rainwater collection system, a smart thermostat, and a garden with native plants. Riverwalk is a nature lover's paradise with hiking trails, parks, and stunning river views.\",\"Riverwalk is a nature lover's paradise with scenic hiking trails and parks, perfect for outdoor enthusiasts. Residents can enjoy the nearby Riverwalk Park, local farmers' markets, and community events. The neighborhood offers a peaceful retreat with a strong sense of community and a focus on sustainability.\"\n"
     ]
    }
   ],
   "source": [
    "print(real_estate_llm_data)"
   ]
  },
  {
   "cell_type": "markdown",
   "id": "fc663d0a",
   "metadata": {},
   "source": [
    "#### Generated data needed formatting, after formatting the csv file is created. This file will be used further ads listinigs."
   ]
  },
  {
   "cell_type": "markdown",
   "id": "c68a0ea3",
   "metadata": {},
   "source": [
    "### Store real estate listings in cromadb with embedding"
   ]
  },
  {
   "cell_type": "code",
   "execution_count": 90,
   "id": "5a67b416",
   "metadata": {},
   "outputs": [],
   "source": [
    "re_listings_df = pd.read_csv('real-estate-listings-generated.csv')"
   ]
  },
  {
   "cell_type": "code",
   "execution_count": 91,
   "id": "e9161d61",
   "metadata": {},
   "outputs": [
    {
     "data": {
      "text/html": [
       "<div>\n",
       "<style scoped>\n",
       "    .dataframe tbody tr th:only-of-type {\n",
       "        vertical-align: middle;\n",
       "    }\n",
       "\n",
       "    .dataframe tbody tr th {\n",
       "        vertical-align: top;\n",
       "    }\n",
       "\n",
       "    .dataframe thead th {\n",
       "        text-align: right;\n",
       "    }\n",
       "</style>\n",
       "<table border=\"1\" class=\"dataframe\">\n",
       "  <thead>\n",
       "    <tr style=\"text-align: right;\">\n",
       "      <th></th>\n",
       "      <th>Neighborhood</th>\n",
       "      <th>Price</th>\n",
       "      <th>Bedrooms</th>\n",
       "      <th>Bathrooms</th>\n",
       "      <th>House Size</th>\n",
       "      <th>Description</th>\n",
       "      <th>Neighborhood Description</th>\n",
       "    </tr>\n",
       "  </thead>\n",
       "  <tbody>\n",
       "    <tr>\n",
       "      <th>0</th>\n",
       "      <td>Willow Creek</td>\n",
       "      <td>$650,000</td>\n",
       "      <td>4</td>\n",
       "      <td>3</td>\n",
       "      <td>2,500 sqft</td>\n",
       "      <td>Nestled in the serene neighborhood of Willow C...</td>\n",
       "      <td>Willow Creek is a family-friendly neighborhood...</td>\n",
       "    </tr>\n",
       "    <tr>\n",
       "      <th>1</th>\n",
       "      <td>Sunset Hills</td>\n",
       "      <td>$900,000</td>\n",
       "      <td>5</td>\n",
       "      <td>4</td>\n",
       "      <td>3,000 sqft</td>\n",
       "      <td>Situated in the prestigious Sunset Hills neigh...</td>\n",
       "      <td>Sunset Hills is an upscale neighborhood known ...</td>\n",
       "    </tr>\n",
       "    <tr>\n",
       "      <th>2</th>\n",
       "      <td>Riverfront Estates</td>\n",
       "      <td>$1,200,000</td>\n",
       "      <td>6</td>\n",
       "      <td>5</td>\n",
       "      <td>4,500 sqft</td>\n",
       "      <td>Located in the exclusive Riverfront Estates, t...</td>\n",
       "      <td>Riverfront Estates is a prestigious waterfront...</td>\n",
       "    </tr>\n",
       "    <tr>\n",
       "      <th>3</th>\n",
       "      <td>Maple Grove</td>\n",
       "      <td>$500,000</td>\n",
       "      <td>3</td>\n",
       "      <td>2</td>\n",
       "      <td>1,800 sqft</td>\n",
       "      <td>Set in the charming neighborhood of Maple Grov...</td>\n",
       "      <td>Maple Grove is a quaint neighborhood with tree...</td>\n",
       "    </tr>\n",
       "    <tr>\n",
       "      <th>4</th>\n",
       "      <td>Oakwood Heights</td>\n",
       "      <td>$750,000</td>\n",
       "      <td>4</td>\n",
       "      <td>3</td>\n",
       "      <td>2,300 sqft</td>\n",
       "      <td>Situated in the desirable neighborhood of Oakw...</td>\n",
       "      <td>Oakwood Heights is a trendy neighborhood with ...</td>\n",
       "    </tr>\n",
       "  </tbody>\n",
       "</table>\n",
       "</div>"
      ],
      "text/plain": [
       "         Neighborhood       Price  Bedrooms  Bathrooms  House Size  \\\n",
       "0        Willow Creek    $650,000         4          3  2,500 sqft   \n",
       "1        Sunset Hills    $900,000         5          4  3,000 sqft   \n",
       "2  Riverfront Estates  $1,200,000         6          5  4,500 sqft   \n",
       "3         Maple Grove    $500,000         3          2  1,800 sqft   \n",
       "4     Oakwood Heights    $750,000         4          3  2,300 sqft   \n",
       "\n",
       "                                         Description  \\\n",
       "0  Nestled in the serene neighborhood of Willow C...   \n",
       "1  Situated in the prestigious Sunset Hills neigh...   \n",
       "2  Located in the exclusive Riverfront Estates, t...   \n",
       "3  Set in the charming neighborhood of Maple Grov...   \n",
       "4  Situated in the desirable neighborhood of Oakw...   \n",
       "\n",
       "                            Neighborhood Description  \n",
       "0  Willow Creek is a family-friendly neighborhood...  \n",
       "1  Sunset Hills is an upscale neighborhood known ...  \n",
       "2  Riverfront Estates is a prestigious waterfront...  \n",
       "3  Maple Grove is a quaint neighborhood with tree...  \n",
       "4  Oakwood Heights is a trendy neighborhood with ...  "
      ]
     },
     "execution_count": 91,
     "metadata": {},
     "output_type": "execute_result"
    }
   ],
   "source": [
    "re_listings_df.head()"
   ]
  },
  {
   "cell_type": "code",
   "execution_count": 92,
   "id": "6105f8e3",
   "metadata": {},
   "outputs": [],
   "source": [
    "CHROMA_DATA_PATH = \"chroma_data/\"\n",
    "EMBED_MODEL = \"text-embedding-ada-002\"\n",
    "COLLECTION_NAME = \"property_Description\""
   ]
  },
  {
   "cell_type": "code",
   "execution_count": 95,
   "id": "5a0d35a5",
   "metadata": {},
   "outputs": [],
   "source": [
    "# Create embedding function to embed description\n",
    "embedding_func = embedding_functions.OpenAIEmbeddingFunction(model_name=EMBED_MODEL)"
   ]
  },
  {
   "cell_type": "code",
   "execution_count": 96,
   "id": "603d704c",
   "metadata": {},
   "outputs": [],
   "source": [
    "# Initialize cromadb client and set metadata options\n",
    "chroma_client = chromadb.PersistentClient()\n",
    "\n",
    "metadata_options = {\n",
    "    \"hnsw:space\": \"cosine\" \n",
    "}"
   ]
  },
  {
   "cell_type": "code",
   "execution_count": 97,
   "id": "04b7e26a",
   "metadata": {},
   "outputs": [],
   "source": [
    "# Create a collection in cromadb for further use\n",
    "collection = chroma_client.get_or_create_collection(\n",
    "    name=COLLECTION_NAME, \n",
    "    metadata=metadata_options, \n",
    "    embedding_function=embedding_func\n",
    ")"
   ]
  },
  {
   "cell_type": "code",
   "execution_count": 99,
   "id": "dc1d387d",
   "metadata": {},
   "outputs": [],
   "source": [
    "# create lists of all data to be stored ini cromaadb including text, metadata and ids\n",
    "all_documents = []\n",
    "all_metadata = []\n",
    "all_ids = []\n",
    "for i, row in re_listings_df.iterrows():\n",
    "    metadata = {\n",
    "        'Neighborhood': row['Neighborhood'],\n",
    "        'Price': row['Price'],\n",
    "        'Bedrooms': row['Bedrooms'],\n",
    "        'Bathrooms': row['Bathrooms'],\n",
    "        'House Size': row['House Size'],\n",
    "    }\n",
    "    document = row['Description']\n",
    "    all_ids.append(str(i))\n",
    "    all_documents.append(document)\n",
    "    all_metadata.append(metadata)"
   ]
  },
  {
   "cell_type": "code",
   "execution_count": 103,
   "id": "db208df6",
   "metadata": {},
   "outputs": [
    {
     "name": "stdout",
     "output_type": "stream",
     "text": [
      "Nestled in the serene neighborhood of Willow Creek, this spacious property boasts 4 bedrooms and 3 bathrooms. The house features energy-efficient appliances, a solar water heater, and a backyard garden with fruit trees and a composting area. With a large living room and a cozy fireplace, this home is perfect for families looking for a sustainable and comfortable living space.\n"
     ]
    }
   ],
   "source": [
    "print(all_documents[0])"
   ]
  },
  {
   "cell_type": "code",
   "execution_count": 104,
   "id": "94c139f8",
   "metadata": {},
   "outputs": [],
   "source": [
    "collection.add(\n",
    "    documents=all_documents,\n",
    "    metadatas=all_metadata,\n",
    "    ids=all_ids\n",
    ")"
   ]
  },
  {
   "cell_type": "markdown",
   "id": "8c080ffa",
   "metadata": {},
   "source": [
    "### Quey cromadb for getting related context to customer prefrences"
   ]
  },
  {
   "cell_type": "code",
   "execution_count": 105,
   "id": "d3684513",
   "metadata": {},
   "outputs": [],
   "source": [
    "# Function to get related property details from cromadb\n",
    "def get_listings_from_prefrences(collection, query, max_results):\n",
    "    results = collection.query(query_texts=query, n_results=max_results)\n",
    "    property_descriptions = results['documents'][0]\n",
    "    property_metadata = results['metadatas'][0]\n",
    "    result_sources = results['ids'][0]\n",
    "    return property_descriptions, property_metadata, result_sources"
   ]
  },
  {
   "cell_type": "code",
   "execution_count": 109,
   "id": "0dc24451",
   "metadata": {},
   "outputs": [],
   "source": [
    "query = \"Would like to buy home with 3 bedrooms\""
   ]
  },
  {
   "cell_type": "code",
   "execution_count": 110,
   "id": "9f412085",
   "metadata": {},
   "outputs": [],
   "source": [
    "description_context, metadata_context, matching_sources = get_listings_from_prefrences(\n",
    "    collection=collection,\n",
    "    query=query,\n",
    "    max_results=5,\n",
    ")"
   ]
  },
  {
   "cell_type": "code",
   "execution_count": 111,
   "id": "1c1e8e19",
   "metadata": {},
   "outputs": [
    {
     "name": "stdout",
     "output_type": "stream",
     "text": [
      "['Set in the charming neighborhood of Forest Hills, this cozy property features 3 bedrooms and 2 bathrooms. The house includes a renovated kitchen with energy-efficient appliances, a sunroom overlooking the backyard garden, and a rainwater collection system. With hardwood floors and a fireplace, this home offers a warm and inviting atmosphere for those seeking a sustainable lifestyle.', 'Located in the peaceful neighborhood of Mountain View, this charming property offers 3 bedrooms and 2 bathrooms. The house features a renovated kitchen with energy-efficient appliances, a cozy fireplace, and a backyard garden with a composting area. With hardwood floors and a sunroom, this home provides a tranquil retreat for those seeking a sustainable and serene living space.', 'Set in the charming neighborhood of Forest Park, this cozy property features 3 bedrooms and 2 bathrooms. The house includes a renovated kitchen with energy-efficient appliances, a sunroom overlooking the backyard garden, and a rainwater collection system. With hardwood floors and a fireplace, this home offers a warm and inviting atmosphere for those seeking a sustainable lifestyle.', 'Situated in the desirable neighborhood of Riverfront Terrace, this modern property offers 4 bedrooms and 3 bathrooms. The house features a sleek design, energy-efficient appliances, and a rooftop deck with solar panels. With a spacious living room and a gourmet kitchen, this home is perfect for those who appreciate contemporary style and sustainable living.', 'Set in the charming neighborhood of Maple Grove, this cozy property features 3 bedrooms and 2 bathrooms. The house includes a renovated kitchen with energy-efficient appliances, a sunroom overlooking the backyard garden, and a rainwater collection system. With hardwood floors and a fireplace, this home offers a warm and inviting atmosphere for those seeking a sustainable lifestyle.']\n"
     ]
    }
   ],
   "source": [
    "print(description_context)"
   ]
  },
  {
   "cell_type": "code",
   "execution_count": 127,
   "id": "c9c31289",
   "metadata": {},
   "outputs": [],
   "source": [
    "def create_prompt_with_context(description_context, metadata_context, query):\n",
    "    # description_context = \"\\n\\n---\\n\\n\".join(description_context)\n",
    "    customer_query = query\n",
    "    prompt_with_context = f\"\"\"\n",
    "    Answer the question only using the following context:\n",
    "\n",
    "    {description_context}\n",
    "\n",
    "    and additional metadata for context - \n",
    "    \n",
    "    {metadata_context}\n",
    "\n",
    "    ---\n",
    "\n",
    "    From given context suggest properties closely matching with query \"{customer_query}\" from customer. Description for properties should be distinct and blended well in a paragraph with noticable seperation, which aligns with prefrences given in the customer query. The response should contain at least two or more suggestions which are mostly related to customer query.\n",
    "    \"\"\"\n",
    "    return prompt_with_context"
   ]
  },
  {
   "cell_type": "markdown",
   "id": "e9db72d3",
   "metadata": {},
   "source": [
    "### Get user query, search for related properties and augment property description as per user preference"
   ]
  },
  {
   "cell_type": "code",
   "execution_count": 140,
   "id": "c453913d",
   "metadata": {},
   "outputs": [],
   "source": [
    "def generate_response_for_customer(customer_query, database_collection):\n",
    "    description_context, metadata_context, matching_sources = get_listings_from_prefrences(\n",
    "    collection=database_collection,\n",
    "    query=customer_query,\n",
    "    max_results=5)\n",
    "\n",
    "    prompt_for_listing = create_prompt_with_context(description_context, metadata_context, query=query)\n",
    "    llm_response = llm.predict(prompt_for_listing)\n",
    "\n",
    "    print(f'User Query - \\n\\n{customer_query}')\n",
    "    print('--------')\n",
    "    print(f'Related Property Descriptions - \\n\\n{description_context}')\n",
    "    print('--------')\n",
    "    print(f'Related Property Metadata - \\n\\n{metadata_context}')\n",
    "    print('--------')\n",
    "    print(f'Prompt to LLM with Context - \\n\\n{prompt_for_listing}')\n",
    "    print('--------')\n",
    "    return llm_response\n",
    "    "
   ]
  },
  {
   "cell_type": "markdown",
   "id": "f95c7981",
   "metadata": {},
   "source": [
    "### Generate responses with user query"
   ]
  },
  {
   "cell_type": "code",
   "execution_count": 141,
   "id": "6a7c053d",
   "metadata": {},
   "outputs": [
    {
     "name": "stdout",
     "output_type": "stream",
     "text": [
      "User Query - \n",
      "\n",
      "I need a 3 bedroom home near waterfront.\n",
      "--------\n",
      "Related Property Descriptions - \n",
      "\n",
      "['Perched in the scenic neighborhood of Harbor View, this stunning property offers 4 bedrooms and 3 bathrooms. The house features a gourmet kitchen with energy-efficient appliances, a wine cellar, and a backyard garden with a vegetable patch and a rain garden. With panoramic views of the harbor and a spacious deck, this home is perfect for those who value sustainable living and waterfront living.', 'Situated in the desirable neighborhood of Riverfront Terrace, this modern property offers 4 bedrooms and 3 bathrooms. The house features a sleek design, energy-efficient appliances, and a rooftop deck with solar panels. With a spacious living room and a gourmet kitchen, this home is perfect for those who appreciate contemporary style and sustainable living.', 'Located in the exclusive Riverfront Estates, this grand property boasts 6 bedrooms and 5 bathrooms. The house features a gourmet kitchen with energy-efficient appliances, a home theater, and a private dock on the river. With a spacious backyard and a rooftop garden, this home offers a luxurious retreat for those who value sustainable living and waterfront views.', 'Situated in the desirable neighborhood of Riverbend Estates, this modern property offers 4 bedrooms and 3 bathrooms. The house features a sleek design, energy-efficient appliances, and a rooftop deck with solar panels. With a spacious living room and a gourmet kitchen, this home is perfect for those who appreciate contemporary style and sustainable living.', 'Perched in the scenic neighborhood of Silver Lake, this stunning property offers 4 bedrooms and 3 bathrooms. The house features a gourmet kitchen with energy-efficient appliances, a wine cellar, and a backyard garden with a vegetable patch and a rain garden. With panoramic views of the lake and a spacious deck, this home is perfect for those who value sustainable living and waterfront living.']\n",
      "--------\n",
      "Related Property Metadata - \n",
      "\n",
      "[{'Bathrooms': 3, 'Bedrooms': 4, 'House Size': '2,800 sqft', 'Neighborhood': 'Harbor View', 'Price': '$850,000'}, {'Bathrooms': 3, 'Bedrooms': 4, 'House Size': '2,300 sqft', 'Neighborhood': 'Riverfront Terrace', 'Price': '$800,000'}, {'Bathrooms': 5, 'Bedrooms': 6, 'House Size': '4,500 sqft', 'Neighborhood': 'Riverfront Estates', 'Price': '$1,200,000'}, {'Bathrooms': 3, 'Bedrooms': 4, 'House Size': '2,300 sqft', 'Neighborhood': 'Riverbend Estates', 'Price': '$800,000'}, {'Bathrooms': 3, 'Bedrooms': 4, 'House Size': '2,800 sqft', 'Neighborhood': 'Silver Lake', 'Price': '$750,000'}]\n",
      "--------\n",
      "Prompt to LLM with Context - \n",
      "\n",
      "\n",
      "    Answer the question only using the following context:\n",
      "\n",
      "    ['Perched in the scenic neighborhood of Harbor View, this stunning property offers 4 bedrooms and 3 bathrooms. The house features a gourmet kitchen with energy-efficient appliances, a wine cellar, and a backyard garden with a vegetable patch and a rain garden. With panoramic views of the harbor and a spacious deck, this home is perfect for those who value sustainable living and waterfront living.', 'Situated in the desirable neighborhood of Riverfront Terrace, this modern property offers 4 bedrooms and 3 bathrooms. The house features a sleek design, energy-efficient appliances, and a rooftop deck with solar panels. With a spacious living room and a gourmet kitchen, this home is perfect for those who appreciate contemporary style and sustainable living.', 'Located in the exclusive Riverfront Estates, this grand property boasts 6 bedrooms and 5 bathrooms. The house features a gourmet kitchen with energy-efficient appliances, a home theater, and a private dock on the river. With a spacious backyard and a rooftop garden, this home offers a luxurious retreat for those who value sustainable living and waterfront views.', 'Situated in the desirable neighborhood of Riverbend Estates, this modern property offers 4 bedrooms and 3 bathrooms. The house features a sleek design, energy-efficient appliances, and a rooftop deck with solar panels. With a spacious living room and a gourmet kitchen, this home is perfect for those who appreciate contemporary style and sustainable living.', 'Perched in the scenic neighborhood of Silver Lake, this stunning property offers 4 bedrooms and 3 bathrooms. The house features a gourmet kitchen with energy-efficient appliances, a wine cellar, and a backyard garden with a vegetable patch and a rain garden. With panoramic views of the lake and a spacious deck, this home is perfect for those who value sustainable living and waterfront living.']\n",
      "\n",
      "    and additional metadata for context - \n",
      "    \n",
      "    [{'Bathrooms': 3, 'Bedrooms': 4, 'House Size': '2,800 sqft', 'Neighborhood': 'Harbor View', 'Price': '$850,000'}, {'Bathrooms': 3, 'Bedrooms': 4, 'House Size': '2,300 sqft', 'Neighborhood': 'Riverfront Terrace', 'Price': '$800,000'}, {'Bathrooms': 5, 'Bedrooms': 6, 'House Size': '4,500 sqft', 'Neighborhood': 'Riverfront Estates', 'Price': '$1,200,000'}, {'Bathrooms': 3, 'Bedrooms': 4, 'House Size': '2,300 sqft', 'Neighborhood': 'Riverbend Estates', 'Price': '$800,000'}, {'Bathrooms': 3, 'Bedrooms': 4, 'House Size': '2,800 sqft', 'Neighborhood': 'Silver Lake', 'Price': '$750,000'}]\n",
      "\n",
      "    ---\n",
      "\n",
      "    From given context suggest properties closely matching with query \"I need a 3 bedroom home near waterfront.\" from customer. Description for properties should be distinct and blended well in a paragraph with noticable seperation, which aligns with prefrences given in the customer query. The response should contain at least two or more suggestions which are mostly related to customer query.\n",
      "    \n",
      "--------\n",
      "LLM Response - Based on your query for a 3 bedroom home near waterfront, I would recommend two properties that closely match your preferences. \n",
      "\n",
      "The first property is situated in the scenic neighborhood of Harbor View. This stunning property offers 4 bedrooms and 3 bathrooms, with a gourmet kitchen featuring energy-efficient appliances, a wine cellar, and a backyard garden with a vegetable patch and a rain garden. With panoramic views of the harbor and a spacious deck, this home is perfect for those who value sustainable living and waterfront living. Priced at $850,000, this property offers a luxurious yet environmentally conscious lifestyle.\n",
      "\n",
      "The second property is located in the exclusive Riverfront Estates. This grand property boasts 6 bedrooms and 5 bathrooms, with a gourmet kitchen featuring energy-efficient appliances, a home theater, and a private dock on the river. With a spacious backyard and a rooftop garden, this home offers a luxurious retreat for those who value sustainable living and waterfront views. Priced at $1,200,000, this property provides a lavish waterfront living experience with ample space for a larger family.\n"
     ]
    }
   ],
   "source": [
    "query = \"I need a 3 bedroom home near waterfront.\"\n",
    "llm_response = generate_response_for_customer(query, collection)\n",
    "print(f'LLM Response - {llm_response}')"
   ]
  },
  {
   "cell_type": "code",
   "execution_count": 142,
   "id": "dec3905f",
   "metadata": {},
   "outputs": [
    {
     "name": "stdout",
     "output_type": "stream",
     "text": [
      "User Query - \n",
      "\n",
      "I need a home with neighbourhood surrounded by greenary and should be within $50,000.\n",
      "--------\n",
      "Related Property Descriptions - \n",
      "\n",
      "['Set in the charming neighborhood of Forest Park, this cozy property features 3 bedrooms and 2 bathrooms. The house includes a renovated kitchen with energy-efficient appliances, a sunroom overlooking the backyard garden, and a rainwater collection system. With hardwood floors and a fireplace, this home offers a warm and inviting atmosphere for those seeking a sustainable lifestyle.', 'Set in the charming neighborhood of Forest Hills, this cozy property features 3 bedrooms and 2 bathrooms. The house includes a renovated kitchen with energy-efficient appliances, a sunroom overlooking the backyard garden, and a rainwater collection system. With hardwood floors and a fireplace, this home offers a warm and inviting atmosphere for those seeking a sustainable lifestyle.', 'Nestled in the serene neighborhood of Willow Creek, this spacious property boasts 4 bedrooms and 3 bathrooms. The house features energy-efficient appliances, a solar water heater, and a backyard garden with fruit trees and a composting area. With a large living room and a cozy fireplace, this home is perfect for families looking for a sustainable and comfortable living space.', 'Set in the charming neighborhood of Maple Grove, this cozy property features 3 bedrooms and 2 bathrooms. The house includes a renovated kitchen with energy-efficient appliances, a sunroom overlooking the backyard garden, and a rainwater collection system. With hardwood floors and a fireplace, this home offers a warm and inviting atmosphere for those seeking a sustainable lifestyle.', 'Located in the peaceful neighborhood of Mountain View, this charming property offers 3 bedrooms and 2 bathrooms. The house features a renovated kitchen with energy-efficient appliances, a cozy fireplace, and a backyard garden with a composting area. With hardwood floors and a sunroom, this home provides a tranquil retreat for those seeking a sustainable and serene living space.']\n",
      "--------\n",
      "Related Property Metadata - \n",
      "\n",
      "[{'Bathrooms': 2, 'Bedrooms': 3, 'House Size': '1,900 sqft', 'Neighborhood': 'Forest Park', 'Price': '$550,000'}, {'Bathrooms': 2, 'Bedrooms': 3, 'House Size': '1,900 sqft', 'Neighborhood': 'Forest Hills', 'Price': '$550,000'}, {'Bathrooms': 3, 'Bedrooms': 4, 'House Size': '2,500 sqft', 'Neighborhood': 'Willow Creek', 'Price': '$650,000'}, {'Bathrooms': 2, 'Bedrooms': 3, 'House Size': '1,800 sqft', 'Neighborhood': 'Maple Grove', 'Price': '$500,000'}, {'Bathrooms': 2, 'Bedrooms': 3, 'House Size': '2,100 sqft', 'Neighborhood': 'Mountain View', 'Price': '$700,000'}]\n",
      "--------\n",
      "Prompt to LLM with Context - \n",
      "\n",
      "\n",
      "    Answer the question only using the following context:\n",
      "\n",
      "    ['Set in the charming neighborhood of Forest Park, this cozy property features 3 bedrooms and 2 bathrooms. The house includes a renovated kitchen with energy-efficient appliances, a sunroom overlooking the backyard garden, and a rainwater collection system. With hardwood floors and a fireplace, this home offers a warm and inviting atmosphere for those seeking a sustainable lifestyle.', 'Set in the charming neighborhood of Forest Hills, this cozy property features 3 bedrooms and 2 bathrooms. The house includes a renovated kitchen with energy-efficient appliances, a sunroom overlooking the backyard garden, and a rainwater collection system. With hardwood floors and a fireplace, this home offers a warm and inviting atmosphere for those seeking a sustainable lifestyle.', 'Nestled in the serene neighborhood of Willow Creek, this spacious property boasts 4 bedrooms and 3 bathrooms. The house features energy-efficient appliances, a solar water heater, and a backyard garden with fruit trees and a composting area. With a large living room and a cozy fireplace, this home is perfect for families looking for a sustainable and comfortable living space.', 'Set in the charming neighborhood of Maple Grove, this cozy property features 3 bedrooms and 2 bathrooms. The house includes a renovated kitchen with energy-efficient appliances, a sunroom overlooking the backyard garden, and a rainwater collection system. With hardwood floors and a fireplace, this home offers a warm and inviting atmosphere for those seeking a sustainable lifestyle.', 'Located in the peaceful neighborhood of Mountain View, this charming property offers 3 bedrooms and 2 bathrooms. The house features a renovated kitchen with energy-efficient appliances, a cozy fireplace, and a backyard garden with a composting area. With hardwood floors and a sunroom, this home provides a tranquil retreat for those seeking a sustainable and serene living space.']\n",
      "\n",
      "    and additional metadata for context - \n",
      "    \n",
      "    [{'Bathrooms': 2, 'Bedrooms': 3, 'House Size': '1,900 sqft', 'Neighborhood': 'Forest Park', 'Price': '$550,000'}, {'Bathrooms': 2, 'Bedrooms': 3, 'House Size': '1,900 sqft', 'Neighborhood': 'Forest Hills', 'Price': '$550,000'}, {'Bathrooms': 3, 'Bedrooms': 4, 'House Size': '2,500 sqft', 'Neighborhood': 'Willow Creek', 'Price': '$650,000'}, {'Bathrooms': 2, 'Bedrooms': 3, 'House Size': '1,800 sqft', 'Neighborhood': 'Maple Grove', 'Price': '$500,000'}, {'Bathrooms': 2, 'Bedrooms': 3, 'House Size': '2,100 sqft', 'Neighborhood': 'Mountain View', 'Price': '$700,000'}]\n",
      "\n",
      "    ---\n",
      "\n",
      "    From given context suggest properties closely matching with query \"I need a home with neighbourhood surrounded by greenary and should be within $50,000.\" from customer. Description for properties should be distinct and blended well in a paragraph with noticable seperation, which aligns with prefrences given in the customer query. The response should contain at least two or more suggestions which are mostly related to customer query.\n",
      "    \n",
      "--------\n",
      "LLM Response - Based on your preferences for a home surrounded by greenery and within a budget of $50,000, I would recommend considering the charming property in Forest Park. This cozy home features 3 bedrooms and 2 bathrooms, a renovated kitchen with energy-efficient appliances, a sunroom overlooking the backyard garden, and a rainwater collection system. With hardwood floors and a fireplace, this sustainable lifestyle home offers a warm and inviting atmosphere. Additionally, you may also want to explore the peaceful neighborhood of Mountain View. This charming property with 3 bedrooms and 2 bathrooms boasts a renovated kitchen, a cozy fireplace, and a backyard garden with a composting area. With hardwood floors and a sunroom, this tranquil retreat provides a serene living space perfect for those seeking sustainability. Both of these properties align with your preference for green surroundings and are within your specified budget.\n"
     ]
    }
   ],
   "source": [
    "query = \"I need a home with neighbourhood surrounded by greenary and should be within $50,000.\"\n",
    "llm_response = generate_response_for_customer(query, collection)\n",
    "print(f'LLM Response - {llm_response}')"
   ]
  },
  {
   "cell_type": "markdown",
   "id": "cb000a13",
   "metadata": {},
   "source": [
    "## Comments"
   ]
  },
  {
   "cell_type": "markdown",
   "id": "cc83b59f",
   "metadata": {},
   "source": [
    "### - From above queries we can see the customer preference is take into consideration while sending prompt to LLM. Then LLM using the context generate personalized response for customer.\n",
    "### - I can use metadata in better manned to include in prompt and also have additional filtering on cromadb query rsponse\n",
    "### - Using better embedding and LLM model the rspoonses could be better but still what the current LLm doing is very nice from my perspective."
   ]
  },
  {
   "cell_type": "markdown",
   "id": "5b35ce1a",
   "metadata": {},
   "source": [
    "## My thoughts on multimodal approach - \n",
    "### - For including images along with description using CLIP embedding model and reproducing in response can face an issue of capacity to store fewer images per property to have good performance.\n",
    "### - Generally property listings have multiple photos from varipus angles and varoous areas.\n",
    "### - To support such additiona capability we can create folder of images on a cloud storage and put link to correspondign folder as metadata for property description."
   ]
  },
  {
   "cell_type": "markdown",
   "id": "e0752adc",
   "metadata": {},
   "source": []
  }
 ],
 "metadata": {
  "kernelspec": {
   "display_name": "Python 3 (ipykernel)",
   "language": "python",
   "name": "python3"
  },
  "language_info": {
   "codemirror_mode": {
    "name": "ipython",
    "version": 3
   },
   "file_extension": ".py",
   "mimetype": "text/x-python",
   "name": "python",
   "nbconvert_exporter": "python",
   "pygments_lexer": "ipython3",
   "version": "3.10.14"
  }
 },
 "nbformat": 4,
 "nbformat_minor": 5
}
